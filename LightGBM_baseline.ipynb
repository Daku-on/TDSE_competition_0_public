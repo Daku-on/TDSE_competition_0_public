{
 "cells": [
  {
   "cell_type": "code",
   "execution_count": 1,
   "id": "d838e26c",
   "metadata": {
    "_cell_guid": "b1076dfc-b9ad-4769-8c92-a6c4dae69d19",
    "_uuid": "8f2839f25d086af736a60e9eeb907d3b93b6e0e5",
    "execution": {
     "iopub.execute_input": "2024-06-01T12:14:48.688668Z",
     "iopub.status.busy": "2024-06-01T12:14:48.688102Z",
     "iopub.status.idle": "2024-06-01T12:14:52.708444Z",
     "shell.execute_reply": "2024-06-01T12:14:52.707188Z"
    },
    "papermill": {
     "duration": 4.029479,
     "end_time": "2024-06-01T12:14:52.711717",
     "exception": false,
     "start_time": "2024-06-01T12:14:48.682238",
     "status": "completed"
    },
    "tags": []
   },
   "outputs": [],
   "source": [
    "import numpy as np # 今回は明示的には使わない\n",
    "import pandas as pd # data processing, CSV file I/O (e.g. pd.read_csv)\n",
    "import lightgbm as lgb # LightGBM でモデルを作成する\n",
    "from sklearn.metrics import accuracy_score, roc_auc_score #精度評価に使用"
   ]
  },
  {
   "cell_type": "code",
   "execution_count": 2,
   "id": "ba63f885",
   "metadata": {
    "execution": {
     "iopub.execute_input": "2024-06-01T12:14:52.721563Z",
     "iopub.status.busy": "2024-06-01T12:14:52.720915Z",
     "iopub.status.idle": "2024-06-01T12:14:53.551404Z",
     "shell.execute_reply": "2024-06-01T12:14:53.550062Z"
    },
    "papermill": {
     "duration": 0.838589,
     "end_time": "2024-06-01T12:14:53.554418",
     "exception": false,
     "start_time": "2024-06-01T12:14:52.715829",
     "status": "completed"
    },
    "tags": []
   },
   "outputs": [],
   "source": [
    "# 学習データの読み込み\n",
    "train_df =  pd.read_csv(\"../input/tdse-inclass-competition-0/train.csv\")\n",
    "# 特徴量。Surname, Geography, Gender はそのままでは使えないので削除\n",
    "X_train_df = train_df.drop(\n",
    "    [\"Exited\", \"Surname\", \"Geography\", \"Gender\"],\n",
    "    axis=1,\n",
    ") \n",
    "# 目的変数\n",
    "y_train_df = train_df[\"Exited\"]\n",
    "\n",
    "# テストデータの読み込み\n",
    "test_df =  pd.read_csv(\"../input/tdse-inclass-competition-0/test.csv\")\n",
    "# 同様にSurname, Geography, Gender を削除\n",
    "X_test_df = test_df.drop(\n",
    "    [\"Surname\", \"Geography\", \"Gender\"],\n",
    "    axis=1,\n",
    ")\n",
    "\n",
    "# LightGBM用のデータセット作成\n",
    "train_data = lgb.Dataset(X_train_df, label=y_train_df)"
   ]
  },
  {
   "cell_type": "code",
   "execution_count": 3,
   "id": "506bb72b",
   "metadata": {
    "execution": {
     "iopub.execute_input": "2024-06-01T12:14:53.563402Z",
     "iopub.status.busy": "2024-06-01T12:14:53.562985Z",
     "iopub.status.idle": "2024-06-01T12:14:56.231445Z",
     "shell.execute_reply": "2024-06-01T12:14:56.229818Z"
    },
    "papermill": {
     "duration": 2.67643,
     "end_time": "2024-06-01T12:14:56.234310",
     "exception": false,
     "start_time": "2024-06-01T12:14:53.557880",
     "status": "completed"
    },
    "tags": []
   },
   "outputs": [],
   "source": [
    "# モデルのパラメータ設定\n",
    "params = {\n",
    "    'objective': 'binary',\n",
    "    'metric': 'auc',\n",
    "    'boosting_type': 'gbdt',\n",
    "    'learning_rate': 0.05,\n",
    "    'num_leaves': 31,\n",
    "    'feature_fraction': 0.9,\n",
    "    'bagging_fraction': 0.8,\n",
    "    'bagging_freq': 5,\n",
    "    'verbose': 0\n",
    "}\n",
    "\n",
    "# モデルのトレーニング\n",
    "model = lgb.train(\n",
    "    params,\n",
    "    train_data,\n",
    ")"
   ]
  },
  {
   "cell_type": "code",
   "execution_count": 4,
   "id": "279d153a",
   "metadata": {
    "execution": {
     "iopub.execute_input": "2024-06-01T12:14:56.243527Z",
     "iopub.status.busy": "2024-06-01T12:14:56.243111Z",
     "iopub.status.idle": "2024-06-01T12:14:56.480334Z",
     "shell.execute_reply": "2024-06-01T12:14:56.479285Z"
    },
    "papermill": {
     "duration": 0.2449,
     "end_time": "2024-06-01T12:14:56.482936",
     "exception": false,
     "start_time": "2024-06-01T12:14:56.238036",
     "status": "completed"
    },
    "tags": []
   },
   "outputs": [],
   "source": [
    "# テストデータに対する予測\n",
    "y_pred_np = model.predict(X_test_df)"
   ]
  },
  {
   "cell_type": "code",
   "execution_count": 5,
   "id": "6cad2de5",
   "metadata": {
    "execution": {
     "iopub.execute_input": "2024-06-01T12:14:56.493075Z",
     "iopub.status.busy": "2024-06-01T12:14:56.491782Z",
     "iopub.status.idle": "2024-06-01T12:14:56.500201Z",
     "shell.execute_reply": "2024-06-01T12:14:56.498946Z"
    },
    "papermill": {
     "duration": 0.016044,
     "end_time": "2024-06-01T12:14:56.502635",
     "exception": false,
     "start_time": "2024-06-01T12:14:56.486591",
     "status": "completed"
    },
    "tags": []
   },
   "outputs": [
    {
     "data": {
      "text/plain": [
       "array([0.01599476, 0.78082902, 0.02689072, ..., 0.02765597, 0.11213857,\n",
       "       0.22836047])"
      ]
     },
     "execution_count": 5,
     "metadata": {},
     "output_type": "execute_result"
    }
   ],
   "source": [
    "y_pred_np"
   ]
  },
  {
   "cell_type": "code",
   "execution_count": 6,
   "id": "5c78b351",
   "metadata": {
    "execution": {
     "iopub.execute_input": "2024-06-01T12:14:56.512725Z",
     "iopub.status.busy": "2024-06-01T12:14:56.511755Z",
     "iopub.status.idle": "2024-06-01T12:14:56.517591Z",
     "shell.execute_reply": "2024-06-01T12:14:56.516758Z"
    },
    "papermill": {
     "duration": 0.013594,
     "end_time": "2024-06-01T12:14:56.520026",
     "exception": false,
     "start_time": "2024-06-01T12:14:56.506432",
     "status": "completed"
    },
    "tags": []
   },
   "outputs": [],
   "source": [
    "# 提出用ファイルの作成\n",
    "submission_df = pd.DataFrame({\n",
    "    \"id\": test_df[\"id\"],\n",
    "    \"Exited\": y_pred_np,\n",
    "})"
   ]
  },
  {
   "cell_type": "code",
   "execution_count": 7,
   "id": "c3222581",
   "metadata": {
    "execution": {
     "iopub.execute_input": "2024-06-01T12:14:56.529463Z",
     "iopub.status.busy": "2024-06-01T12:14:56.529058Z",
     "iopub.status.idle": "2024-06-01T12:14:56.546178Z",
     "shell.execute_reply": "2024-06-01T12:14:56.545199Z"
    },
    "papermill": {
     "duration": 0.024535,
     "end_time": "2024-06-01T12:14:56.548485",
     "exception": false,
     "start_time": "2024-06-01T12:14:56.523950",
     "status": "completed"
    },
    "tags": []
   },
   "outputs": [
    {
     "data": {
      "text/html": [
       "<div>\n",
       "<style scoped>\n",
       "    .dataframe tbody tr th:only-of-type {\n",
       "        vertical-align: middle;\n",
       "    }\n",
       "\n",
       "    .dataframe tbody tr th {\n",
       "        vertical-align: top;\n",
       "    }\n",
       "\n",
       "    .dataframe thead th {\n",
       "        text-align: right;\n",
       "    }\n",
       "</style>\n",
       "<table border=\"1\" class=\"dataframe\">\n",
       "  <thead>\n",
       "    <tr style=\"text-align: right;\">\n",
       "      <th></th>\n",
       "      <th>id</th>\n",
       "      <th>Exited</th>\n",
       "    </tr>\n",
       "  </thead>\n",
       "  <tbody>\n",
       "    <tr>\n",
       "      <th>0</th>\n",
       "      <td>165034</td>\n",
       "      <td>0.015995</td>\n",
       "    </tr>\n",
       "    <tr>\n",
       "      <th>1</th>\n",
       "      <td>165035</td>\n",
       "      <td>0.780829</td>\n",
       "    </tr>\n",
       "    <tr>\n",
       "      <th>2</th>\n",
       "      <td>165036</td>\n",
       "      <td>0.026891</td>\n",
       "    </tr>\n",
       "    <tr>\n",
       "      <th>3</th>\n",
       "      <td>165037</td>\n",
       "      <td>0.302446</td>\n",
       "    </tr>\n",
       "    <tr>\n",
       "      <th>4</th>\n",
       "      <td>165038</td>\n",
       "      <td>0.259043</td>\n",
       "    </tr>\n",
       "  </tbody>\n",
       "</table>\n",
       "</div>"
      ],
      "text/plain": [
       "       id    Exited\n",
       "0  165034  0.015995\n",
       "1  165035  0.780829\n",
       "2  165036  0.026891\n",
       "3  165037  0.302446\n",
       "4  165038  0.259043"
      ]
     },
     "execution_count": 7,
     "metadata": {},
     "output_type": "execute_result"
    }
   ],
   "source": [
    "submission_df.head()"
   ]
  },
  {
   "cell_type": "code",
   "execution_count": 8,
   "id": "bc67ff42",
   "metadata": {
    "execution": {
     "iopub.execute_input": "2024-06-01T12:14:56.559112Z",
     "iopub.status.busy": "2024-06-01T12:14:56.558339Z",
     "iopub.status.idle": "2024-06-01T12:14:56.939820Z",
     "shell.execute_reply": "2024-06-01T12:14:56.938968Z"
    },
    "papermill": {
     "duration": 0.389663,
     "end_time": "2024-06-01T12:14:56.942417",
     "exception": false,
     "start_time": "2024-06-01T12:14:56.552754",
     "status": "completed"
    },
    "tags": []
   },
   "outputs": [],
   "source": [
    "submission_df.to_csv(\"submission.csv\", index=False)"
   ]
  }
 ],
 "metadata": {
  "kaggle": {
   "accelerator": "none",
   "dataSources": [
    {
     "databundleVersionId": 8428413,
     "sourceId": 77360,
     "sourceType": "competition"
    }
   ],
   "dockerImageVersionId": 30715,
   "isGpuEnabled": false,
   "isInternetEnabled": true,
   "language": "python",
   "sourceType": "notebook"
  },
  "kernelspec": {
   "display_name": "Python 3",
   "language": "python",
   "name": "python3"
  },
  "language_info": {
   "codemirror_mode": {
    "name": "ipython",
    "version": 3
   },
   "file_extension": ".py",
   "mimetype": "text/x-python",
   "name": "python",
   "nbconvert_exporter": "python",
   "pygments_lexer": "ipython3",
   "version": "3.10.2"
  },
  "papermill": {
   "default_parameters": {},
   "duration": 12.261552,
   "end_time": "2024-06-01T12:14:57.670426",
   "environment_variables": {},
   "exception": null,
   "input_path": "__notebook__.ipynb",
   "output_path": "__notebook__.ipynb",
   "parameters": {},
   "start_time": "2024-06-01T12:14:45.408874",
   "version": "2.5.0"
  }
 },
 "nbformat": 4,
 "nbformat_minor": 5
}
